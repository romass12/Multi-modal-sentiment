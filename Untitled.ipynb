{
 "cells": [
  {
   "cell_type": "code",
   "execution_count": 1,
   "metadata": {},
   "outputs": [
    {
     "name": "stdout",
     "output_type": "stream",
     "text": [
      "On branch master\r\n",
      "Your branch is up-to-date with 'origin/master'.\r\n",
      "\r\n",
      "Untracked files:\r\n",
      "  (use \"git add <file>...\" to include in what will be committed)\r\n",
      "\r\n",
      "\t\u001b[31m.ipynb_checkpoints/\u001b[m\r\n",
      "\t\u001b[31mMulti-modal research.pdf\u001b[m\r\n",
      "\t\u001b[31mStage1/\u001b[m\r\n",
      "\t\u001b[31mStage2/\u001b[m\r\n",
      "\t\u001b[31mUntitled.ipynb\u001b[m\r\n",
      "\r\n",
      "nothing added to commit but untracked files present (use \"git add\" to track)\r\n"
     ]
    }
   ],
   "source": [
    "!git status"
   ]
  },
  {
   "cell_type": "code",
   "execution_count": 7,
   "metadata": {},
   "outputs": [
    {
     "name": "stdout",
     "output_type": "stream",
     "text": [
      "warning: adding embedded git repository: Stage1/MultimodalDataSDK\r\n",
      "hint: You've added another git repository inside your current repository.\r\n",
      "hint: Clones of the outer repository will not contain the contents of\r\n",
      "hint: the embedded repository and will not know how to obtain it.\r\n",
      "hint: If you meant to add a submodule, use:\r\n",
      "hint: \r\n",
      "hint: \tgit submodule add <url> Stage1/MultimodalDataSDK\r\n",
      "hint: \r\n",
      "hint: If you added this path by mistake, you can remove it from the\r\n",
      "hint: index with:\r\n",
      "hint: \r\n",
      "hint: \tgit rm --cached Stage1/MultimodalDataSDK\r\n",
      "hint: \r\n",
      "hint: See \"git help submodule\" for more information.\r\n"
     ]
    }
   ],
   "source": [
    "!git add ."
   ]
  },
  {
   "cell_type": "code",
   "execution_count": 4,
   "metadata": {},
   "outputs": [
    {
     "name": "stdout",
     "output_type": "stream",
     "text": [
      "Cloning into '/home/ec2-user/SageMaker/Multi-modal-sentiment/MultimodalDataSDK'...\n",
      "remote: Not Found\n",
      "fatal: repository 'https://github.com/romass12/Multi-modal-sentiment.git/Stage1/MultimodalDataSDK/' not found\n",
      "fatal: clone of 'https://github.com/romass12/Multi-modal-sentiment.git/Stage1/MultimodalDataSDK' into submodule path '/home/ec2-user/SageMaker/Multi-modal-sentiment/MultimodalDataSDK' failed\n"
     ]
    }
   ],
   "source": [
    "!git submodule add ./Stage1/MultimodalDataSDK"
   ]
  },
  {
   "cell_type": "code",
   "execution_count": 10,
   "metadata": {},
   "outputs": [
    {
     "name": "stdout",
     "output_type": "stream",
     "text": [
      "fatal: pathspec 'Stage1/MultimodalDataSDK' did not match any files\r\n"
     ]
    }
   ],
   "source": [
    "!git rm -f --cached Stage1/MultimodalDataSDK"
   ]
  },
  {
   "cell_type": "code",
   "execution_count": null,
   "metadata": {},
   "outputs": [],
   "source": []
  }
 ],
 "metadata": {
  "kernelspec": {
   "display_name": "conda_python3",
   "language": "python",
   "name": "conda_python3"
  },
  "language_info": {
   "codemirror_mode": {
    "name": "ipython",
    "version": 3
   },
   "file_extension": ".py",
   "mimetype": "text/x-python",
   "name": "python",
   "nbconvert_exporter": "python",
   "pygments_lexer": "ipython3",
   "version": "3.6.5"
  }
 },
 "nbformat": 4,
 "nbformat_minor": 2
}
