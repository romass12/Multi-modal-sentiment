{
 "cells": [
  {
   "cell_type": "code",
   "execution_count": 1,
   "metadata": {},
   "outputs": [
    {
     "name": "stdout",
     "output_type": "stream",
     "text": [
      "On branch master\r\n",
      "Your branch is up-to-date with 'origin/master'.\r\n",
      "\r\n",
      "Changes to be committed:\r\n",
      "  (use \"git reset HEAD <file>...\" to unstage)\r\n",
      "\r\n",
      "\t\u001b[32mnew file:   .ipynb_checkpoints/Untitled-checkpoint.ipynb\u001b[m\r\n",
      "\t\u001b[32mnew file:   Multi-modal research.pdf\u001b[m\r\n",
      "\t\u001b[32mnew file:   Stage1/.ipynb_checkpoints/Attention-based-GRU-MOSEI-checkpoint.ipynb\u001b[m\r\n",
      "\t\u001b[32mnew file:   Stage1/Attention-based-GRU-MOSEI.ipynb\u001b[m\r\n",
      "\t\u001b[32mnew file:   Stage1/MultimodalDataSDK\u001b[m\r\n",
      "\t\u001b[32mnew file:   Stage1/README.md\u001b[m\r\n",
      "\t\u001b[32mnew file:   Stage1/data_prep.py\u001b[m\r\n",
      "\t\u001b[32mnew file:   Stage1/dataset/audio_3way.pickle\u001b[m\r\n",
      "\t\u001b[32mnew file:   Stage1/dataset/checkpoint\u001b[m\r\n",
      "\t\u001b[32mnew file:   Stage1/dataset/network.data-00000-of-00001\u001b[m\r\n",
      "\t\u001b[32mnew file:   Stage1/dataset/network.index\u001b[m\r\n",
      "\t\u001b[32mnew file:   Stage1/dataset/network.meta\u001b[m\r\n",
      "\t\u001b[32mnew file:   Stage1/dataset/text_3way.pickle\u001b[m\r\n",
      "\t\u001b[32mnew file:   Stage1/dataset/video_3way.pickle\u001b[m\r\n",
      "\t\u001b[32mnew file:   Stage1/model.py\u001b[m\r\n",
      "\t\u001b[32mnew file:   Stage2/MELD\u001b[m\r\n",
      "\t\u001b[32mnew file:   Stage2/README.md\u001b[m\r\n",
      "\t\u001b[32mnew file:   Untitled.ipynb\u001b[m\r\n",
      "\r\n",
      "Changes not staged for commit:\r\n",
      "  (use \"git add/rm <file>...\" to update what will be committed)\r\n",
      "  (use \"git checkout -- <file>...\" to discard changes in working directory)\r\n",
      "  (commit or discard the untracked or modified content in submodules)\r\n",
      "\r\n",
      "\t\u001b[31mdeleted:    Multi-modal research.pdf\u001b[m\r\n",
      "\t\u001b[31mmodified:   Stage2/MELD\u001b[m (modified content, untracked content)\r\n",
      "\t\u001b[31mmodified:   Untitled.ipynb\u001b[m\r\n",
      "\r\n",
      "Untracked files:\r\n",
      "  (use \"git add <file>...\" to include in what will be committed)\r\n",
      "\r\n",
      "\t\u001b[31m.gitignore\u001b[m\r\n",
      "\t\u001b[31mMulti-modal-research.pdf\u001b[m\r\n",
      "\r\n"
     ]
    }
   ],
   "source": [
    "!git status"
   ]
  },
  {
   "cell_type": "code",
   "execution_count": 2,
   "metadata": {},
   "outputs": [],
   "source": [
    "!git add Stage1/.ipynb_checkpoints/Attention-based-GRU-MOSEI-checkpoint.ipynb Stage1/Attention-based-GRU-MOSEI.ipynb Stage1/README.md Stage1/data_prep.py Stage1/dataset/audio_3way.pickle Stage1/dataset/checkpoint Stage1/dataset/network.data-00000-of-00001 Stage1/dataset/network.index Stage1/dataset/network.meta Stage1/dataset/text_3way.pickle Stage1/dataset/video_3way.pickle Stage1/model.py Stage2/MELD Stage2/README.md"
   ]
  },
  {
   "cell_type": "code",
   "execution_count": null,
   "metadata": {},
   "outputs": [],
   "source": [
    "!git submodule add ./Stage1/MultimodalDataSDK"
   ]
  },
  {
   "cell_type": "code",
   "execution_count": null,
   "metadata": {},
   "outputs": [],
   "source": [
    "!git rm -f --cached Stage1/MultimodalDataSDK"
   ]
  },
  {
   "cell_type": "code",
   "execution_count": 3,
   "metadata": {},
   "outputs": [
    {
     "name": "stdout",
     "output_type": "stream",
     "text": [
      "[master 168f89e] committed files for stages\r\n",
      " Committer: EC2 Default User <ec2-user@ip-172-16-65-192.us-east-2.compute.internal>\r\n",
      "Your name and email address were configured automatically based\r\n",
      "on your username and hostname. Please check that they are accurate.\r\n",
      "You can suppress this message by setting them explicitly:\r\n",
      "\r\n",
      "    git config --global user.name \"Your Name\"\r\n",
      "    git config --global user.email you@example.com\r\n",
      "\r\n",
      "After doing this, you may fix the identity used for this commit with:\r\n",
      "\r\n",
      "    git commit --amend --reset-author\r\n",
      "\r\n",
      " 18 files changed, 1433 insertions(+)\r\n",
      " create mode 100644 .ipynb_checkpoints/Untitled-checkpoint.ipynb\r\n",
      " create mode 100644 Multi-modal research.pdf\r\n",
      " create mode 100644 Stage1/.ipynb_checkpoints/Attention-based-GRU-MOSEI-checkpoint.ipynb\r\n",
      " create mode 100644 Stage1/Attention-based-GRU-MOSEI.ipynb\r\n",
      " create mode 160000 Stage1/MultimodalDataSDK\r\n",
      " create mode 100644 Stage1/README.md\r\n",
      " create mode 100644 Stage1/data_prep.py\r\n",
      " create mode 100644 Stage1/dataset/audio_3way.pickle\r\n",
      " create mode 100644 Stage1/dataset/checkpoint\r\n",
      " create mode 100644 Stage1/dataset/network.data-00000-of-00001\r\n",
      " create mode 100644 Stage1/dataset/network.index\r\n",
      " create mode 100644 Stage1/dataset/network.meta\r\n",
      " create mode 100644 Stage1/dataset/text_3way.pickle\r\n",
      " create mode 100644 Stage1/dataset/video_3way.pickle\r\n",
      " create mode 100644 Stage1/model.py\r\n",
      " create mode 160000 Stage2/MELD\r\n",
      " create mode 100644 Stage2/README.md\r\n",
      " create mode 100644 Untitled.ipynb\r\n"
     ]
    }
   ],
   "source": [
    "!git commit -m \"committed files for stages\""
   ]
  },
  {
   "cell_type": "code",
   "execution_count": 4,
   "metadata": {},
   "outputs": [],
   "source": [
    "!git config --global user.name \"Roma Jain\""
   ]
  },
  {
   "cell_type": "code",
   "execution_count": 5,
   "metadata": {},
   "outputs": [],
   "source": [
    "!git config --global user.email romajain07@gmail.com"
   ]
  },
  {
   "cell_type": "code",
   "execution_count": null,
   "metadata": {},
   "outputs": [
    {
     "name": "stdout",
     "output_type": "stream",
     "text": [
      "Username for 'https://github.com/romass12/Multi-modal-sentiment.git': "
     ]
    }
   ],
   "source": [
    "!git push origin master"
   ]
  },
  {
   "cell_type": "code",
   "execution_count": null,
   "metadata": {},
   "outputs": [],
   "source": [
    "Roma"
   ]
  }
 ],
 "metadata": {
  "kernelspec": {
   "display_name": "conda_python3",
   "language": "python",
   "name": "conda_python3"
  },
  "language_info": {
   "codemirror_mode": {
    "name": "ipython",
    "version": 3
   },
   "file_extension": ".py",
   "mimetype": "text/x-python",
   "name": "python",
   "nbconvert_exporter": "python",
   "pygments_lexer": "ipython3",
   "version": "3.6.5"
  }
 },
 "nbformat": 4,
 "nbformat_minor": 2
}
